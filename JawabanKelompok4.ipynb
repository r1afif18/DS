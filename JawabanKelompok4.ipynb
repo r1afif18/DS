{
  "nbformat": 4,
  "nbformat_minor": 0,
  "metadata": {
    "colab": {
      "provenance": [],
      "authorship_tag": "ABX9TyOKuzyPZHHBzyJEPahrAttx",
      "include_colab_link": true
    },
    "kernelspec": {
      "name": "python3",
      "display_name": "Python 3"
    },
    "language_info": {
      "name": "python"
    }
  },
  "cells": [
    {
      "cell_type": "markdown",
      "metadata": {
        "id": "view-in-github",
        "colab_type": "text"
      },
      "source": [
        "<a href=\"https://colab.research.google.com/github/r1afif18/DS/blob/main/JawabanKelompok4.ipynb\" target=\"_parent\"><img src=\"https://colab.research.google.com/assets/colab-badge.svg\" alt=\"Open In Colab\"/></a>"
      ]
    },
    {
      "cell_type": "code",
      "execution_count": null,
      "metadata": {
        "id": "7qhH8Uz_2dR0"
      },
      "outputs": [],
      "source": [
        "import matplotlib.pyplot as plt\n",
        "\n",
        "# Data\n",
        "prodi = ['S2 Ilmu Komputer', 'S1 Sistem Informasi', 'S1 Informatika', 'S1 Sains Data', 'S1 Manajemen', 'S1 Bisnis Digital', 'D3 Perhotelan', 'S1 Sastra Inggris', 'S1 Akuntansi', 'S1 Multimedia']\n",
        "jumlah_mahasiswa = [40, 36, 38, 15, 43, 23, 21, 30, 50, 20]\n",
        "\n",
        "# Membuat bar chart\n",
        "plt.figure(figsize=(10,6))\n",
        "plt.bar(prodi, jumlah_mahasiswa, color='skyblue')\n",
        "plt.xlabel('Jumlah Mahasiswa')\n",
        "plt.ylabel('Program Studi')\n",
        "plt.title('Penerimaan Mahasiswa Universitas Nusa Mandiri Tahun 2023')\n",
        "plt.xticks(rotation=45, ha='right')\n",
        "plt.show()\n"
      ]
    },
    {
      "cell_type": "markdown",
      "source": [
        " 1. kita memilih untuk menggunakan bar chart karena:\n",
        "  Kemudahan Pemahaman: Mudah dipahami karena panjang batang mewakili nilai dan sumbu horizontalnya mewakili kategori.\n",
        "\n",
        "  Cocok untuk Data Kategori: Cocok untuk membandingkan jumlah antara kategori yang berbeda, seperti penjualan produk.\n",
        "\n",
        "  Fleksibel: Dapat dimodifikasi dalam berbagai format, termasuk vertikal atau horizontal, serta warna dan gaya batang.\n",
        "\n",
        "  Visualisasi Data Besar: Dapat menampilkan perbandingan antara banyak kategori tanpa kehilangan jelasnya, cocok untuk data besar.\n",
        "\n",
        "  Kemampuan Labeling: Memungkinkan penambahan label pada sumbu x dan y, menyertakan informasi tambahan seperti nama kategori atau nilai numerik.\n",
        "\n",
        "\n",
        "\n",
        "  2. prodi yang paling banyak diminati adalah: s1 akuntansi, s1 manajemen,   dan s2 ilmu komputer"
      ],
      "metadata": {
        "id": "PqtNObrJ2toN"
      }
    },
    {
      "cell_type": "code",
      "source": [
        "import matplotlib.pyplot as plt\n",
        "\n",
        "# Data\n",
        "jenis_bunga = ['Mawar merah', 'Lily putih', 'Tulip kuning', 'Melati', 'Anggrek bulan', 'Matahari kuning', 'Bunga bakung', 'Bunga matahari', 'Lavender ungu', 'Bunga krisan', 'Bunga dahlia', 'Bunga aster', 'Bunga kamboja', 'Bunga Sakura', 'Bunga anggrek', 'Bunga lili', 'Bunga anggrek hitam', 'Bunga krokus', 'Bunga daisy', 'Bunga bunga matahari kecil']\n",
        "jumlah_penjualan = [80, 28, 17, 24, 20, 30, 10, 35, 40, 15, 25, 45, 50, 70, 75, 60, 55, 50, 65, 5]\n",
        "\n",
        "# Membuat bar chart\n",
        "plt.figure(figsize=(12,8))\n",
        "plt.barh(jenis_bunga, jumlah_penjualan, color='lightgreen')\n",
        "plt.xlabel('Jumlah Penjualan')\n",
        "plt.ylabel('Jenis Bunga')\n",
        "plt.title('Penjualan Bunga')\n",
        "#plt.gca().invert_yaxis()  # Memutar urutan label di sumbu y agar sesuai dengan urutan data\n",
        "plt.show()"
      ],
      "metadata": {
        "id": "lNAWu_4724eY"
      },
      "execution_count": null,
      "outputs": []
    },
    {
      "cell_type": "markdown",
      "source": [
        " 1. kita memilih untuk menggunakan bar chart karena:\n",
        "  Kemudahan Pemahaman: Mudah dipahami karena panjang batang mewakili nilai dan sumbu horizontalnya mewakili kategori.\n",
        "\n",
        "  Cocok untuk Data Kategori: Cocok untuk membandingkan jumlah antara kategori yang berbeda, seperti penjualan produk.\n",
        "\n",
        "  Fleksibel: Dapat dimodifikasi dalam berbagai format, termasuk vertikal atau horizontal, serta warna dan gaya batang.\n",
        "\n",
        "  Visualisasi Data Besar: Dapat menampilkan perbandingan antara banyak kategori tanpa kehilangan jelasnya, cocok untuk data besar.\n",
        "\n",
        "  Kemampuan Labeling: Memungkinkan penambahan label pada sumbu x dan y, menyertakan informasi tambahan seperti nama kategori atau nilai numerik.\n",
        "\n",
        "\n",
        "\n",
        "  2. 10 bunga yang paling tidak di minati:Bunga matahari kecil,bunga krisan,bunga bakung,tulip kuning,anggrek bulan,melati,bunga dahlia,lily putih,matahari kuning, lavender ungu"
      ],
      "metadata": {
        "id": "VAuvWUPn25kR"
      }
    }
  ]
}