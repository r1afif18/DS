{
  "nbformat": 4,
  "nbformat_minor": 0,
  "metadata": {
    "colab": {
      "provenance": [],
      "authorship_tag": "ABX9TyMTP1APNa52uFc/HfDUe1da",
      "include_colab_link": true
    },
    "kernelspec": {
      "name": "python3",
      "display_name": "Python 3"
    },
    "language_info": {
      "name": "python"
    }
  },
  "cells": [
    {
      "cell_type": "markdown",
      "metadata": {
        "id": "view-in-github",
        "colab_type": "text"
      },
      "source": [
        "<a href=\"https://colab.research.google.com/github/r1afif18/DS/blob/main/Tugas-P3.ipynb\" target=\"_parent\"><img src=\"https://colab.research.google.com/assets/colab-badge.svg\" alt=\"Open In Colab\"/></a>"
      ]
    },
    {
      "cell_type": "code",
      "execution_count": 4,
      "metadata": {
        "colab": {
          "base_uri": "https://localhost:8080/"
        },
        "id": "uFsO-5oru2lB",
        "outputId": "dc0bc0db-8281-4814-e791-703c0a7a85c8"
      },
      "outputs": [
        {
          "output_type": "stream",
          "name": "stdout",
          "text": [
            "Requirement already satisfied: pandas in /usr/local/lib/python3.10/dist-packages (2.0.3)\n",
            "Requirement already satisfied: python-dateutil>=2.8.2 in /usr/local/lib/python3.10/dist-packages (from pandas) (2.8.2)\n",
            "Requirement already satisfied: pytz>=2020.1 in /usr/local/lib/python3.10/dist-packages (from pandas) (2023.4)\n",
            "Requirement already satisfied: tzdata>=2022.1 in /usr/local/lib/python3.10/dist-packages (from pandas) (2024.1)\n",
            "Requirement already satisfied: numpy>=1.21.0 in /usr/local/lib/python3.10/dist-packages (from pandas) (1.25.2)\n",
            "Requirement already satisfied: six>=1.5 in /usr/local/lib/python3.10/dist-packages (from python-dateutil>=2.8.2->pandas) (1.16.0)\n"
          ]
        }
      ],
      "source": [
        "pip install pandas"
      ]
    },
    {
      "cell_type": "code",
      "source": [
        "import pandas as pd\n",
        "tabel_siswa = {\n",
        "    'Nama': ['Arfian Purnama', 'Alisa Dityaningrum', 'Kiki Anggraeni', 'Rizky Kurniawan'],\n",
        "    'Gender': ['Laki-laki', 'Perempuan', 'Perempuan', 'Laki-laki'],\n",
        "    'No Telepon': ['081267001022', '087823560918', '089654009102', '082267018967']\n",
        "}\n",
        "df = pd.DataFrame(tabel_siswa)\n",
        "print(df)"
      ],
      "metadata": {
        "colab": {
          "base_uri": "https://localhost:8080/"
        },
        "id": "B8wCaN7Ru5uA",
        "outputId": "47fd64f3-d2ce-4965-f486-34eb5e7ad464"
      },
      "execution_count": 3,
      "outputs": [
        {
          "output_type": "stream",
          "name": "stdout",
          "text": [
            "                 Nama     Gender    No Telepon\n",
            "0      Arfian Purnama  Laki-laki  081267001022\n",
            "1  Alisa Dityaningrum  Perempuan  087823560918\n",
            "2      Kiki Anggraeni  Perempuan  089654009102\n",
            "3     Rizky Kurniawan  Laki-laki  082267018967\n"
          ]
        }
      ]
    },
    {
      "cell_type": "code",
      "source": [
        "import pandas as pd\n",
        "tabel_siswa = {\n",
        "    'Nama': ['Arfian Purnama', 'Alisa Dityaningrum', 'Kiki Anggraeni', 'Rizky Kurniawan'],\n",
        "    'Gender': ['Laki-laki', 'Perempuan', 'Perempuan','Laki-laki'],\n",
        "    'No Telepon': ['081267001022', '087823560918', '089654009102', '082267018967'],\n",
        "    'Tugas': ['80', '89', '76', '80'],\n",
        "    'UTS': ['88', '78', '90', '81'],\n",
        "    'UAS': ['90', '89', '85', '82']\n",
        "}\n",
        "df = pd.DataFrame(tabel_siswa)\n",
        "print(df)"
      ],
      "metadata": {
        "colab": {
          "base_uri": "https://localhost:8080/"
        },
        "id": "sk_aECU9u8tl",
        "outputId": "07647bd9-e834-499a-93b9-6812f55071a6"
      },
      "execution_count": 2,
      "outputs": [
        {
          "output_type": "stream",
          "name": "stdout",
          "text": [
            "                 Nama     Gender    No Telepon Tugas UTS UAS\n",
            "0      Arfian Purnama  Laki-laki  081267001022    80  88  90\n",
            "1  Alisa Dityaningrum  Perempuan  087823560918    89  78  89\n",
            "2      Kiki Anggraeni  Perempuan  089654009102    76  90  85\n",
            "3     Rizky Kurniawan  Laki-laki  082267018967    80  81  82\n"
          ]
        }
      ]
    },
    {
      "cell_type": "code",
      "source": [
        "import pandas as pd\n",
        "tabel_siswa = {\n",
        "    'Nama': ['Arfian Purnama', 'Alisa Dityaningrum', 'Kiki Anggraeni', 'Rizky Kurniawan'],\n",
        "    'Gender': ['Laki-laki', 'Perempuan', 'Perempuan','Laki-laki'],\n",
        "    'No Telepon': ['081267001022', '087823560918', '089654009102', '082267018967'],\n",
        "    'Tugas': [80, 89, 76, 80],\n",
        "    'UTS': [88, 78, 90, 81],\n",
        "    'UAS': [90, 89, 85, 82]\n",
        "}\n",
        "df = pd.DataFrame(tabel_siswa)\n",
        "\n",
        "df['Nilai Akhir'] = (0.3 * df['Tugas'] + 0.3 * df['UTS'] + 0.4 * df['UAS']).round(2)\n",
        "print(df)"
      ],
      "metadata": {
        "colab": {
          "base_uri": "https://localhost:8080/"
        },
        "id": "Jnb1IgATvCcx",
        "outputId": "517bdd27-bc0f-44d7-94a0-096c14a0f7ef"
      },
      "execution_count": 1,
      "outputs": [
        {
          "output_type": "stream",
          "name": "stdout",
          "text": [
            "                 Nama     Gender    No Telepon  Tugas  UTS  UAS  Nilai Akhir\n",
            "0      Arfian Purnama  Laki-laki  081267001022     80   88   90         86.4\n",
            "1  Alisa Dityaningrum  Perempuan  087823560918     89   78   89         85.7\n",
            "2      Kiki Anggraeni  Perempuan  089654009102     76   90   85         83.8\n",
            "3     Rizky Kurniawan  Laki-laki  082267018967     80   81   82         81.1\n"
          ]
        }
      ]
    }
  ]
}