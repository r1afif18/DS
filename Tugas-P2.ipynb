{
  "nbformat": 4,
  "nbformat_minor": 0,
  "metadata": {
    "colab": {
      "provenance": [],
      "authorship_tag": "ABX9TyM01ZIVmHVVD72gVpv9BHQx",
      "include_colab_link": true
    },
    "kernelspec": {
      "name": "python3",
      "display_name": "Python 3"
    },
    "language_info": {
      "name": "python"
    }
  },
  "cells": [
    {
      "cell_type": "markdown",
      "metadata": {
        "id": "view-in-github",
        "colab_type": "text"
      },
      "source": [
        "<a href=\"https://colab.research.google.com/github/r1afif18/DS/blob/main/Tugas-P2.ipynb\" target=\"_parent\"><img src=\"https://colab.research.google.com/assets/colab-badge.svg\" alt=\"Open In Colab\"/></a>"
      ]
    },
    {
      "cell_type": "code",
      "source": [
        "pip install numpy"
      ],
      "metadata": {
        "colab": {
          "base_uri": "https://localhost:8080/"
        },
        "id": "jMZJgdbFtb2_",
        "outputId": "ebe5d2b1-0452-40d9-9111-940005dc7dc0"
      },
      "execution_count": 3,
      "outputs": [
        {
          "output_type": "stream",
          "name": "stdout",
          "text": [
            "Requirement already satisfied: numpy in /usr/local/lib/python3.10/dist-packages (1.25.2)\n"
          ]
        }
      ]
    },
    {
      "cell_type": "code",
      "source": [
        "import numpy as np"
      ],
      "metadata": {
        "id": "Yacq-C1-tjyR"
      },
      "execution_count": 4,
      "outputs": []
    },
    {
      "cell_type": "code",
      "source": [
        "# Membuat matriks 5x5 dengan angka 11 hingga 35\n",
        "angka = np.arange(11,36)\n",
        "matriks = angka.reshape(5,5)"
      ],
      "metadata": {
        "id": "Bfhp5bQ8tp-R"
      },
      "execution_count": 5,
      "outputs": []
    },
    {
      "cell_type": "code",
      "source": [
        "# Fungsi untuk memberi warna pada angka-angka tertentu\n",
        "def warna_angka(angka) :\n",
        "  if angka in [11, 13, 15, 21, 23, 25, 31, 33, 35] :\n",
        "    return \"\\033[32m{}\\033[0m\". format(angka) # Hijau\n",
        "  elif angka in [12, 14] :\n",
        "    return \"\\033[31m{}\\033[0m\". format(angka) # Merah\n",
        "  elif angka in [16, 26] :\n",
        "    return \"\\033[34m{}\\033[0m\". format(angka) # Biru\n",
        "  elif angka in [12, 17, 22, 27, 32] :\n",
        "    return \"\\033[91m{}\\033[0m\". format(angka) # Merah Muda\n",
        "  else :\n",
        "    return str(angka)\n",
        ""
      ],
      "metadata": {
        "id": "9BxJnocntspz"
      },
      "execution_count": 9,
      "outputs": []
    },
    {
      "cell_type": "code",
      "source": [
        "# Mengubah setiap elemen matriks dengan fungsi warna_angka\n",
        "matriks_warna = np.vectorize(warna_angka)(matriks)\n",
        "\n"
      ],
      "metadata": {
        "id": "DTYXb48TtxHp"
      },
      "execution_count": 7,
      "outputs": []
    },
    {
      "cell_type": "code",
      "source": [
        "# Menampilkan matriks dengan warna pada angka-angka tertentu\n",
        "for baris in matriks_warna :\n",
        "  print(\"\".join(baris))\n",
        ""
      ],
      "metadata": {
        "colab": {
          "base_uri": "https://localhost:8080/"
        },
        "id": "w6wOA_sttzyQ",
        "outputId": "629a2a69-37f3-4931-db36-cdab97b5ba83"
      },
      "execution_count": 8,
      "outputs": [
        {
          "output_type": "stream",
          "name": "stdout",
          "text": [
            "\u001b[32m11\u001b[0m\u001b[31m12\u001b[0m\u001b[32m13\u001b[0m\u001b[31m14\u001b[0m\u001b[32m15\u001b[0m\n",
            "\u001b[34m16\u001b[0m\u001b[91m17\u001b[0m181920\n",
            "\u001b[32m21\u001b[0m\u001b[91m22\u001b[0m\u001b[32m23\u001b[0m24\u001b[32m25\u001b[0m\n",
            "\u001b[34m26\u001b[0m\u001b[91m27\u001b[0m282930\n",
            "\u001b[32m31\u001b[0m\u001b[91m32\u001b[0m\u001b[32m33\u001b[0m34\u001b[32m35\u001b[0m\n"
          ]
        }
      ]
    }
  ]
}